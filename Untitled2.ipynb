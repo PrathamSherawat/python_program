{
  "nbformat": 4,
  "nbformat_minor": 0,
  "metadata": {
    "colab": {
      "provenance": [],
      "authorship_tag": "ABX9TyNozQB550YxqxxF6cqnEYgy",
      "include_colab_link": true
    },
    "kernelspec": {
      "name": "python3",
      "display_name": "Python 3"
    },
    "language_info": {
      "name": "python"
    }
  },
  "cells": [
    {
      "cell_type": "markdown",
      "metadata": {
        "id": "view-in-github",
        "colab_type": "text"
      },
      "source": [
        "<a href=\"https://colab.research.google.com/github/PrathamSherawat/python_program/blob/main/Untitled2.ipynb\" target=\"_parent\"><img src=\"https://colab.research.google.com/assets/colab-badge.svg\" alt=\"Open In Colab\"/></a>"
      ]
    },
    {
      "cell_type": "markdown",
      "source": [
        "Question 1. Variable declaration , data type implementation , string and indexing"
      ],
      "metadata": {
        "id": "RZxG6psjcQNv"
      }
    },
    {
      "cell_type": "code",
      "execution_count": null,
      "metadata": {
        "colab": {
          "base_uri": "https://localhost:8080/"
        },
        "id": "020E12LAcNnz",
        "outputId": "3edaa328-576c-43ea-e5f0-bdda5aaaac3d"
      },
      "outputs": [
        {
          "output_type": "stream",
          "name": "stdout",
          "text": [
            "apple\n",
            "orange\n",
            "['apple', 'kiwi', 'orange', 'grape']\n",
            "H\n",
            "P\n",
            "!\n",
            "y\n",
            "Hello, Wython!\n"
          ]
        }
      ],
      "source": [
        "# Variable declaration and assignment\n",
        "age = 25\n",
        "name = \"John\"\n",
        "is_student = True\n",
        "\n",
        "# Data types\n",
        "# Integer\n",
        "num1 = 10\n",
        "num2 = 20\n",
        "\n",
        "# Floating-point\n",
        "float1 = 3.14\n",
        "float2 = 2.718\n",
        "\n",
        "# String\n",
        "message = \"Hello, world!\"\n",
        "\n",
        "# Boolean\n",
        "is_true = True\n",
        "is_false = False\n",
        "\n",
        "# List (indexed collection of items)\n",
        "fruits = ['apple', 'banana', 'orange', 'grape']\n",
        "\n",
        "# Accessing elements in a list by index\n",
        "print(fruits[0])\n",
        "print(fruits[2])\n",
        "\n",
        "# Modifying elements in a list\n",
        "fruits[1] = 'kiwi'\n",
        "print(fruits)\n",
        "\n",
        "# String indexing\n",
        "text = \"Hello, Python!\"\n",
        "\n",
        "print(text[0])\n",
        "print(text[7])\n",
        "\n",
        "# Negative indexing\n",
        "print(text[-1])\n",
        "print(text[-6])\n",
        "\n",
        "\n",
        "new_text = text[:7] + 'W' + text[8:]\n",
        "print(new_text)"
      ]
    },
    {
      "cell_type": "markdown",
      "source": [
        "Question 2 : Checking the weather given string is palindrome or not\n"
      ],
      "metadata": {
        "id": "AWqPKtzegSqz"
      }
    },
    {
      "cell_type": "code",
      "source": [
        "a =input(\"Enter string : \")\n",
        "c=0\n",
        "for i in a:\n",
        "  c=c+1\n",
        "k=0\n",
        "for i in range(0,c):\n",
        "  if(a[i]==a[c-i-1]):\n",
        "    k=k+1\n",
        "if k==c:\n",
        "  print(\"It is palindrome \")\n",
        "else:\n",
        "  print(\"It is not palindrome \")"
      ],
      "metadata": {
        "colab": {
          "base_uri": "https://localhost:8080/"
        },
        "id": "Hh_jDnH7gT6C",
        "outputId": "00aeffc4-dbe4-4c55-987a-51f93c1af0a6"
      },
      "execution_count": null,
      "outputs": [
        {
          "output_type": "stream",
          "name": "stdout",
          "text": [
            "Enter string : 121\n",
            "It is palindrome \n"
          ]
        }
      ]
    },
    {
      "cell_type": "markdown",
      "source": [
        "Question 3 : Sum of Xi**2 where i = 1-10"
      ],
      "metadata": {
        "id": "cgsysv-3gdEA"
      }
    },
    {
      "cell_type": "code",
      "source": [
        "X=[1,2,3,4,5,6,7,8,9,10]\n",
        "Sum = 0\n",
        "for i in range(0,10):\n",
        "  Sum = Sum + X[i]**2\n",
        "print(Sum)"
      ],
      "metadata": {
        "colab": {
          "base_uri": "https://localhost:8080/"
        },
        "id": "aNR5zIyVgfK_",
        "outputId": "adc078f9-0731-43a6-c2f8-d3cc3f81646a"
      },
      "execution_count": null,
      "outputs": [
        {
          "output_type": "stream",
          "name": "stdout",
          "text": [
            "385\n"
          ]
        }
      ]
    },
    {
      "cell_type": "markdown",
      "source": [
        "Question 4 : Prime number up to *100*"
      ],
      "metadata": {
        "id": "CcPjP4MGg-J-"
      }
    },
    {
      "cell_type": "code",
      "source": [
        "for i in range(2,101):\n",
        "  k=1\n",
        "  for j in range(2,i):\n",
        "    if (i%j==0):\n",
        "      k=0\n",
        "  if (k==1):\n",
        "    print(i,\"\\t\")"
      ],
      "metadata": {
        "colab": {
          "base_uri": "https://localhost:8080/"
        },
        "id": "mJaobVELgfo8",
        "outputId": "1ee272e2-8874-4942-90e1-8c295de5c536"
      },
      "execution_count": null,
      "outputs": [
        {
          "output_type": "stream",
          "name": "stdout",
          "text": [
            "2 \t\n",
            "3 \t\n",
            "5 \t\n",
            "7 \t\n",
            "11 \t\n",
            "13 \t\n",
            "17 \t\n",
            "19 \t\n",
            "23 \t\n",
            "29 \t\n",
            "31 \t\n",
            "37 \t\n",
            "41 \t\n",
            "43 \t\n",
            "47 \t\n",
            "53 \t\n",
            "59 \t\n",
            "61 \t\n",
            "67 \t\n",
            "71 \t\n",
            "73 \t\n",
            "79 \t\n",
            "83 \t\n",
            "89 \t\n",
            "97 \t\n"
          ]
        }
      ]
    },
    {
      "cell_type": "markdown",
      "source": [
        "Question 5 : List implementation (using list keyword and random variable, indexing (list inside list))"
      ],
      "metadata": {
        "id": "6hZovf_LhuPC"
      }
    },
    {
      "cell_type": "code",
      "source": [
        "\n",
        "list=[\"A\",\"B\",\"C\",\"D\",\"E\"]\n",
        "l1=[\"A\",\"B\",\"C\",\"D\",\"E\"]\n",
        "print(list)\n",
        "for i in l1:\n",
        "  print(i)\n",
        "l=[1,2,3,[4,5],6,[7,8]]\n",
        "print(l[3][1])"
      ],
      "metadata": {
        "colab": {
          "base_uri": "https://localhost:8080/"
        },
        "id": "zyk2di4Wh2xU",
        "outputId": "0cfcfeb3-5abc-49f4-8cef-de944350567f"
      },
      "execution_count": null,
      "outputs": [
        {
          "output_type": "stream",
          "name": "stdout",
          "text": [
            "['A', 'B', 'C', 'D', 'E']\n",
            "A\n",
            "B\n",
            "C\n",
            "D\n",
            "E\n",
            "5\n"
          ]
        }
      ]
    },
    {
      "cell_type": "markdown",
      "source": [
        "Question 6:List to String and vice versa(Split,join,map)"
      ],
      "metadata": {
        "id": "_UJY80jGiHk2"
      }
    },
    {
      "cell_type": "code",
      "source": [
        "str = \"abcdef\"\n",
        "s=\"My Name Is Aryan\"\n",
        "l=str.split()\n",
        "l1=s.split()\n",
        "print(l)\n",
        "print(l1)\n",
        "\n",
        "l=['We','have','two','pens']\n",
        "b=\" \".join(l)\n",
        "print(b)\n"
      ],
      "metadata": {
        "colab": {
          "base_uri": "https://localhost:8080/"
        },
        "id": "ZykH2ogeiJbN",
        "outputId": "2202b2d3-1604-4f84-f8e0-402bd0e73169"
      },
      "execution_count": null,
      "outputs": [
        {
          "output_type": "stream",
          "name": "stdout",
          "text": [
            "['abcdef']\n",
            "['My', 'Name', 'Is', 'Aryan']\n",
            "We have two pens\n"
          ]
        }
      ]
    },
    {
      "cell_type": "markdown",
      "source": [
        "Question 7 : Python program to some all the items                               \n",
        " a=[10,20,30,40,50]"
      ],
      "metadata": {
        "id": "zta_WhlciJ5q"
      }
    },
    {
      "cell_type": "code",
      "source": [
        "a=[10,20,30,40,50]\n",
        "sum=0\n",
        "for i in a:\n",
        "  sum=sum+i\n",
        "print(sum)"
      ],
      "metadata": {
        "colab": {
          "base_uri": "https://localhost:8080/"
        },
        "id": "rgqnota7iHP0",
        "outputId": "9ff08dcf-9c36-43a4-a0da-174296197738"
      },
      "execution_count": null,
      "outputs": [
        {
          "output_type": "stream",
          "name": "stdout",
          "text": [
            "150\n"
          ]
        }
      ]
    },
    {
      "cell_type": "markdown",
      "source": [
        "Question 8 : Python program to print                                                           \n",
        "1: Largest number                                                                          \n",
        "2: Smallest number                                                                  \n",
        "3: Ascending order                                                                 \n",
        "4: Descending Order                                                              \n",
        "x=[5,10,15,1,4,3,100,60,55]"
      ],
      "metadata": {
        "id": "IDswJB8sixz6"
      }
    },
    {
      "cell_type": "code",
      "source": [
        "# Q- 8  :\n",
        "# Print smallest number,largest number\n",
        "#Print ascending order, Descending order\n",
        "x=[5,10,15,1,4,3,100,60,55]\n",
        "max=5\n",
        "min=5\n",
        "c=0\n",
        "for i in x:\n",
        "  c=c+1\n",
        "  if i>max:\n",
        "    max=i\n",
        "  if i<min:\n",
        "    min=i\n",
        "print(max)\n",
        "print(min)\n",
        "for i in range(0,c):\n",
        "  for j in range(0,c):\n",
        "    if x[i]<x[j]:\n",
        "      t=x[i]\n",
        "      x[i]=x[j]\n",
        "      x[j]=t\n",
        "\n",
        "for i in range(0,c):\n",
        "  for j in range(0,c):\n",
        "      if x[i]> x[j]:\n",
        "           t=x[j]\n",
        "           x[j]=x[i]\n",
        "           x[i]=t\n",
        "print(f\"ascending order {x}\")\n",
        "print(f\"descending order {x}\")"
      ],
      "metadata": {
        "colab": {
          "base_uri": "https://localhost:8080/"
        },
        "id": "gwxaN7x1iyo6",
        "outputId": "6a8b622e-9d1a-42ca-802f-5284f6058733"
      },
      "execution_count": null,
      "outputs": [
        {
          "output_type": "stream",
          "name": "stdout",
          "text": [
            "100\n",
            "1\n",
            "ascending order [100, 60, 55, 15, 10, 5, 4, 3, 1]\n",
            "descending order [100, 60, 55, 15, 10, 5, 4, 3, 1]\n"
          ]
        }
      ]
    },
    {
      "cell_type": "markdown",
      "source": [
        "Question 9 : Python program to find list of words that are no longer than '3' from given list of words.\n",
        "n='3'                                                                            \n",
        "x=['The','Quick','Brown','Fox']"
      ],
      "metadata": {
        "id": "niyEODxIiy5V"
      }
    },
    {
      "cell_type": "code",
      "source": [
        "x= ['The','Quick','Brown','Fox']\n",
        "k=0\n",
        "for i in x:\n",
        "  k=k+1\n",
        "for i in range(0,k):\n",
        "  c=0\n",
        "  for j in x[i]:\n",
        "    c=c+1\n",
        "  if (c>3):\n",
        "    print(x[i])"
      ],
      "metadata": {
        "colab": {
          "base_uri": "https://localhost:8080/"
        },
        "id": "VTkDWNUFizFF",
        "outputId": "48505639-7b9d-44a5-aaab-8c9ec2fc4b06"
      },
      "execution_count": null,
      "outputs": [
        {
          "output_type": "stream",
          "name": "stdout",
          "text": [
            "Quick\n",
            "Brown\n"
          ]
        }
      ]
    },
    {
      "cell_type": "markdown",
      "source": [
        "Question 10 : Fibonacci sequence upto 100 terms"
      ],
      "metadata": {
        "id": "TdSHJLSAizUb"
      }
    },
    {
      "cell_type": "code",
      "source": [
        "a=-1\n",
        "b=1\n",
        "for i in range(100):\n",
        "  s = a+b\n",
        "  a = b\n",
        "  b = s\n",
        "  if(s<100):\n",
        "    print(s,end=\" \")"
      ],
      "metadata": {
        "colab": {
          "base_uri": "https://localhost:8080/"
        },
        "id": "Nu6kSBQAizko",
        "outputId": "1093560e-96e4-4e06-83e6-7a8047ec35f3"
      },
      "execution_count": null,
      "outputs": [
        {
          "output_type": "stream",
          "name": "stdout",
          "text": [
            "0 1 1 2 3 5 8 13 21 34 55 89 "
          ]
        }
      ]
    },
    {
      "cell_type": "markdown",
      "source": [
        "Question 11 : Factorial of a number,eg 10\n"
      ],
      "metadata": {
        "id": "FS4jdOutiwpT"
      }
    },
    {
      "cell_type": "code",
      "source": [
        "n=int(input(\"EnteEnterrEnter number of which you want Factorial : \"))\n",
        "f = 1\n",
        "for i in range(1,n+1):\n",
        "  f=f*i\n",
        "print(f\"factorial is {f}\")"
      ],
      "metadata": {
        "colab": {
          "base_uri": "https://localhost:8080/"
        },
        "id": "8bIJtKdNiw0G",
        "outputId": "3d1078a1-d4d5-42cc-c87c-5bc5812d8561"
      },
      "execution_count": null,
      "outputs": [
        {
          "output_type": "stream",
          "name": "stdout",
          "text": [
            "EnteEnterrEnter number of which you want Factorial : 5\n",
            "factorial is 120\n"
          ]
        }
      ]
    },
    {
      "cell_type": "markdown",
      "source": [
        "Question 12 : Pythagoras Theorem ;\n"
      ],
      "metadata": {
        "id": "fyHHrvx6iw82"
      }
    },
    {
      "cell_type": "code",
      "source": [
        "import math\n",
        "b=int(input(\"Enter base of triangle : \"))\n",
        "p=int(input(\"Enter perpendicular of triangle : \"))\n",
        "h= math.sqrt(b**2+p**2)\n",
        "print(h)"
      ],
      "metadata": {
        "colab": {
          "base_uri": "https://localhost:8080/"
        },
        "id": "-oG_sLM7ixJb",
        "outputId": "df2110b3-5e2d-408f-f2d9-71f6509cadbc"
      },
      "execution_count": null,
      "outputs": [
        {
          "output_type": "stream",
          "name": "stdout",
          "text": [
            "Enter base of triangle : 3\n",
            "Enter perpendicular of triangle : 4\n",
            "5.0\n"
          ]
        }
      ]
    },
    {
      "cell_type": "markdown",
      "source": [
        "Question 13 : Concatenate two  strings using (+) operator,list and join"
      ],
      "metadata": {
        "id": "XCXdYyaGixTD"
      }
    },
    {
      "cell_type": "code",
      "source": [
        "s1=\"My name is \"\n",
        "s2=\"ABC\"\n",
        "print(s1+s2)\n",
        "l=s1.split()\n",
        "l1=s2.split()\n",
        "print(\" \".join(l+l1))"
      ],
      "metadata": {
        "colab": {
          "base_uri": "https://localhost:8080/"
        },
        "id": "qlrYm7VRixd4",
        "outputId": "aa97aa92-8413-4136-f6ef-c3b886a9daa2"
      },
      "execution_count": null,
      "outputs": [
        {
          "output_type": "stream",
          "name": "stdout",
          "text": [
            "My name is ABC\n",
            "My name is ABC\n"
          ]
        }
      ]
    },
    {
      "cell_type": "markdown",
      "source": [
        "Question 14 : Addition of two Matrices"
      ],
      "metadata": {
        "id": "GzjOJjJakIrG"
      }
    },
    {
      "cell_type": "code",
      "source": [
        "a=[[1,2,5],[3,4,6]]\n",
        "b=[[5,6,7],[8,9,6]]\n",
        "print(\"Resultant Matrix : \")\n",
        "for i in range(0,2):\n",
        "  for j in range(0,3):\n",
        "    print(a[i][j]+b[i][j],end=' ')\n",
        "  print()"
      ],
      "metadata": {
        "colab": {
          "base_uri": "https://localhost:8080/"
        },
        "id": "QXYzE33mkI2w",
        "outputId": "ec6ca81a-93f5-4d40-e972-f0d49a84a28b"
      },
      "execution_count": null,
      "outputs": [
        {
          "output_type": "stream",
          "name": "stdout",
          "text": [
            "Resultant Matrix : \n",
            "6 8 12 \n",
            "11 13 12 \n"
          ]
        }
      ]
    },
    {
      "cell_type": "code",
      "source": [
        "from pickle import NONE\n",
        "n1=int(input(\"Enter number of rows : \"))\n",
        "n2=int(input(\"Enter number of columns : \"))\n",
        "\n",
        "\n",
        "l=[[None for _ in range(n2)] for _ in range(n1)]\n",
        "l1=[[None for _ in range(n2)] for _ in range(n1)]\n",
        "\n",
        "\n",
        "print(\"Enter elements of Matrix A : \")\n",
        "for i in range(0,n1):\n",
        "  for j in range(0,n2):\n",
        "    l[i][j]=int(input())\n",
        "\n",
        "\n",
        "print(\"Enter elements of Matrix B : \")\n",
        "for i in range(n1):\n",
        "  for j in range(n2):\n",
        "    l1[i][j]=int(input())\n",
        "\n",
        "\n",
        "print(\"Resultant Matrix : \")\n",
        "for i in range(0,2):\n",
        "  for j in range(0,3):\n",
        "    print(a[i][j]+b[i][j],end=' ')\n",
        "  print()"
      ],
      "metadata": {
        "colab": {
          "base_uri": "https://localhost:8080/"
        },
        "id": "xdJxZRnFkTzu",
        "outputId": "9f6330ba-68dd-4df5-f4ed-44ef04cbebca"
      },
      "execution_count": null,
      "outputs": [
        {
          "output_type": "stream",
          "name": "stdout",
          "text": [
            "Enter number of rows : 3\n",
            "Enter number of columns : 2\n",
            "Enter elements of Matrix A : \n",
            "1\n",
            "2\n",
            "2\n",
            "3\n",
            "4\n",
            "5\n",
            "Enter elements of Matrix B : \n",
            "6\n",
            "2\n",
            "2\n",
            "2\n",
            "2\n",
            "2\n",
            "Resultant Matrix : \n",
            "6 8 12 \n",
            "11 13 12 \n"
          ]
        }
      ]
    },
    {
      "cell_type": "markdown",
      "source": [
        "Question 15 : Multiplication of two Matrices"
      ],
      "metadata": {
        "id": "nslH7zSykJBP"
      }
    },
    {
      "cell_type": "code",
      "source": [
        "X = [[12,7,3],\n",
        "    [4 ,5,6],\n",
        "    [7 ,8,9]]\n",
        "Y = [[5,8,1,2],\n",
        "    [6,7,3,0],\n",
        "    [4,5,9,1]]\n",
        "\n",
        "result = [[0,0,0,0],\n",
        "         [0,0,0,0],\n",
        "         [0,0,0,0]]\n",
        "\n",
        "for i in range(len(X)):\n",
        "  for j in range(len(Y[0])):\n",
        "       for k in range(len(Y)):\n",
        "           result[i][j] += X[i][k] * Y[k][j]\n",
        "\n",
        "for r in result:\n",
        "   print(r)"
      ],
      "metadata": {
        "colab": {
          "base_uri": "https://localhost:8080/"
        },
        "id": "ScZ1nE02kJNn",
        "outputId": "30d551b2-b757-4cd7-d203-411f434695c5"
      },
      "execution_count": null,
      "outputs": [
        {
          "output_type": "stream",
          "name": "stdout",
          "text": [
            "[114, 160, 60, 27]\n",
            "[74, 97, 73, 14]\n",
            "[119, 157, 112, 23]\n"
          ]
        }
      ]
    },
    {
      "cell_type": "markdown",
      "source": [
        "Question 16 : Decimal to binary convertion"
      ],
      "metadata": {
        "id": "g0HptIDTkJY6"
      }
    },
    {
      "cell_type": "code",
      "source": [
        "n=40\n",
        "r=\"\"\n",
        "i=0\n",
        "while(n!=0):\n",
        "  r=str(int(n%2))+r\n",
        "  n=int(n/2)\n",
        "print(r)"
      ],
      "metadata": {
        "id": "I7wMm_VbkJ8u"
      },
      "execution_count": null,
      "outputs": []
    },
    {
      "cell_type": "markdown",
      "source": [
        "Question 17 : Armstrong number"
      ],
      "metadata": {
        "id": "b2R0_852kKGn"
      }
    },
    {
      "cell_type": "code",
      "source": [
        "n=153\n",
        "k=str(n)\n",
        "c=0\n",
        "for i in k:\n",
        "  c=c+1\n",
        "s=0\n",
        "for i in k:\n",
        "  s+=int(i)**c\n",
        "if (n==s):\n",
        "  print(\"Armstrong\")\n",
        "else:\n",
        "  print(\"Not armstrong\")"
      ],
      "metadata": {
        "id": "UEITsMSekKQa"
      },
      "execution_count": null,
      "outputs": []
    }
  ]
}