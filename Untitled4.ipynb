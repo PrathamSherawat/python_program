{
  "nbformat": 4,
  "nbformat_minor": 0,
  "metadata": {
    "colab": {
      "provenance": [],
      "authorship_tag": "ABX9TyMetfg5eSFjaYRpnwI9jSeW",
      "include_colab_link": true
    },
    "kernelspec": {
      "name": "python3",
      "display_name": "Python 3"
    },
    "language_info": {
      "name": "python"
    }
  },
  "cells": [
    {
      "cell_type": "markdown",
      "metadata": {
        "id": "view-in-github",
        "colab_type": "text"
      },
      "source": [
        "<a href=\"https://colab.research.google.com/github/PrathamSherawat/python_program/blob/main/Untitled4.ipynb\" target=\"_parent\"><img src=\"https://colab.research.google.com/assets/colab-badge.svg\" alt=\"Open In Colab\"/></a>"
      ]
    },
    {
      "cell_type": "markdown",
      "source": [
        "Question 21. Write a Program in python that takes in command line arguments as input and print the number of arguments"
      ],
      "metadata": {
        "id": "4qFOdqsY0I9D"
      }
    },
    {
      "cell_type": "code",
      "execution_count": 2,
      "metadata": {
        "colab": {
          "base_uri": "https://localhost:8080/"
        },
        "id": "M1A-q8iTzoyS",
        "outputId": "734e3cc9-a271-4a42-bb71-1c9b50423395"
      },
      "outputs": [
        {
          "output_type": "stream",
          "name": "stdout",
          "text": [
            "Number of arguments: 2\n"
          ]
        }
      ],
      "source": [
        "import sys\n",
        "args = sys.argv\n",
        "args = args[1:]\n",
        "num_args = len(args)\n",
        "print(\"Number of arguments:\", num_args)\n"
      ]
    },
    {
      "cell_type": "markdown",
      "source": [
        "Question 22. Write a Program in Python to perform matrix multiplication"
      ],
      "metadata": {
        "id": "dR5uVvzn0mbH"
      }
    },
    {
      "cell_type": "code",
      "source": [
        "def matrix_multiplication(matrix1, matrix2):\n",
        "    rows1 = len(matrix1)\n",
        "    cols1 = len(matrix1[0])\n",
        "    rows2 = len(matrix2)\n",
        "    cols2 = len(matrix2[0])\n",
        "\n",
        "    if cols1 != rows2:\n",
        "        raise ValueError(\"Invalid matrix dimensions for multiplication!\")\n",
        "    result = [[0] * cols2 for _ in range(rows1)]\n",
        "    for i in range(rows1):\n",
        "        for j in range(cols2):\n",
        "            for k in range(cols1):\n",
        "                result[i][j] += matrix1[i][k] * matrix2[k][j]\n",
        "\n",
        "    return result\n",
        "matrixA = [[1, 2, 3],\n",
        "           [4, 5, 6],\n",
        "           [7, 8, 9]]\n",
        "matrixB = [[10, 11],\n",
        "           [12, 13],\n",
        "           [14, 15]]\n",
        "resultMatrix = matrix_multiplication(matrixA, matrixB)\n",
        "for row in resultMatrix:\n",
        "    print(row)\n"
      ],
      "metadata": {
        "colab": {
          "base_uri": "https://localhost:8080/"
        },
        "id": "fZi-cBrp0mrN",
        "outputId": "e4a5c910-e410-45ea-d734-b298263af526"
      },
      "execution_count": 3,
      "outputs": [
        {
          "output_type": "stream",
          "name": "stdout",
          "text": [
            "[76, 82]\n",
            "[184, 199]\n",
            "[292, 316]\n"
          ]
        }
      ]
    },
    {
      "cell_type": "markdown",
      "source": [
        "Question 23. Write a program to compute the GCD of two numbers"
      ],
      "metadata": {
        "id": "7h75q_2s0m4f"
      }
    },
    {
      "cell_type": "code",
      "source": [
        "def compute_gcd(a, b):\n",
        "    while b != 0:\n",
        "        a, b = b, a % b\n",
        "    return a\n",
        "num1 = 84\n",
        "num2 = 36\n",
        "gcd = compute_gcd(num1, num2)\n",
        "print(\"GCD of\", num1, \"and\", num2, \"is:\", gcd)"
      ],
      "metadata": {
        "colab": {
          "base_uri": "https://localhost:8080/"
        },
        "id": "jeRMSY4w0nFW",
        "outputId": "92781418-992e-459c-f41b-5a628c353f58"
      },
      "execution_count": 4,
      "outputs": [
        {
          "output_type": "stream",
          "name": "stdout",
          "text": [
            "GCD of 84 and 36 is: 12\n"
          ]
        }
      ]
    },
    {
      "cell_type": "markdown",
      "source": [
        "Question 24. write a python program to find the most  frequent words in the text file"
      ],
      "metadata": {
        "id": "Fp-xCt-S11Qd"
      }
    },
    {
      "cell_type": "code",
      "source": [
        "from collections import Counter\n",
        "def find_most_frequent_words(filename, num_words):\n",
        "    with open(filename, 'r') as file:\n",
        "        content = file.read().lower().split()\n",
        "    word_count = Counter(content)\n",
        "    most_frequent_words = word_count.most_common(num_words)\n",
        "    return most_frequent_words\n",
        "filename = 'sample.txt'\n",
        "num_words = 5\n",
        "most_frequent = find_most_frequent_words(filename, num_words)\n",
        "print(\"Most frequent words:\")\n",
        "for word, count in most_frequent:\n",
        "    print(word, \":\", count)"
      ],
      "metadata": {
        "id": "UzZMsxio17Gu"
      },
      "execution_count": null,
      "outputs": []
    },
    {
      "cell_type": "markdown",
      "source": [
        "Question 25. Write a python program find the square root of a number (newton's method)"
      ],
      "metadata": {
        "id": "FcLwGKBm2Byi"
      }
    },
    {
      "cell_type": "code",
      "source": [
        "def find_square_root(number, epsilon=1e-6):\n",
        "    if number < 0:\n",
        "        raise ValueError(\"Cannot calculate square root of a negative number\")\n",
        "    guess = number / 2\n",
        "    while abs(guess**2 - number) > epsilon:\n",
        "        guess = (guess + number / guess) / 2\n",
        "    return guess\n",
        "number = 25\n",
        "square_root = find_square_root(number)\n",
        "print(\"Square root of\", number, \"is:\", square_root)"
      ],
      "metadata": {
        "colab": {
          "base_uri": "https://localhost:8080/"
        },
        "id": "GNfkFWBV2B-S",
        "outputId": "c61fe867-c786-40d7-ca5d-e48599e388a5"
      },
      "execution_count": 6,
      "outputs": [
        {
          "output_type": "stream",
          "name": "stdout",
          "text": [
            "Square root of 25 is: 5.000000000016778\n"
          ]
        }
      ]
    },
    {
      "cell_type": "markdown",
      "source": [
        "Question 26. Write a program in python of exponentiation( power of a number)"
      ],
      "metadata": {
        "id": "b555bb_723Ai"
      }
    },
    {
      "cell_type": "code",
      "source": [
        "def power(base, exponent):\n",
        "    result = 1\n",
        "    for _ in range(exponent):\n",
        "        result *= base\n",
        "    return result\n",
        "base = 2\n",
        "exponent = 5\n",
        "result = power(base, exponent)\n",
        "print(base, \"raised to the power of\", exponent, \"is:\", result)"
      ],
      "metadata": {
        "colab": {
          "base_uri": "https://localhost:8080/"
        },
        "id": "2cnD40Tn3Ro-",
        "outputId": "7fd1cfbb-3838-445b-ca20-2e5b86be959d"
      },
      "execution_count": 7,
      "outputs": [
        {
          "output_type": "stream",
          "name": "stdout",
          "text": [
            "2 raised to the power of 5 is: 32\n"
          ]
        }
      ]
    },
    {
      "cell_type": "markdown",
      "source": [
        "Question 27. write a python program find the maximum of list of numbers"
      ],
      "metadata": {
        "id": "Nxvpo_l23bv3"
      }
    },
    {
      "cell_type": "code",
      "source": [
        "def find_maximum(numbers):\n",
        "    if not numbers:\n",
        "        raise ValueError(\"The list is empty.\")\n",
        "    maximum = numbers[0]\n",
        "    for num in numbers:\n",
        "        if num > maximum:\n",
        "            maximum = num\n",
        "    return maximum\n",
        "number_list = [10, 5, 7, 15, 3, 9]\n",
        "max_number = find_maximum(number_list)\n",
        "print(\"Maximum number:\", max_number)"
      ],
      "metadata": {
        "colab": {
          "base_uri": "https://localhost:8080/"
        },
        "id": "GF6hh6QK3b61",
        "outputId": "15a159c3-6840-4d12-9b83-a50576734eb8"
      },
      "execution_count": 8,
      "outputs": [
        {
          "output_type": "stream",
          "name": "stdout",
          "text": [
            "Maximum number: 15\n"
          ]
        }
      ]
    },
    {
      "cell_type": "markdown",
      "source": [
        "Question 28. Write a python program of linear search"
      ],
      "metadata": {
        "id": "9iPXkdoF3cD1"
      }
    },
    {
      "cell_type": "code",
      "source": [
        "def linear_search(arr, target):\n",
        "    for i in range(len(arr)):\n",
        "        if arr[i] == target:\n",
        "            return i\n",
        "    return -1\n",
        "numbers = [4, 2, 7, 1, 5, 3]\n",
        "target_number = 7\n",
        "index = linear_search(numbers, target_number)\n",
        "if index != -1:\n",
        "    print(\"Element\", target_number, \"found at index\", index)\n",
        "else:\n",
        "    print(\"Element\", target_number, \"not found in the list\")"
      ],
      "metadata": {
        "colab": {
          "base_uri": "https://localhost:8080/"
        },
        "id": "PsxIKvN63ckl",
        "outputId": "8c153360-019e-483a-8f21-b0f4f57756ab"
      },
      "execution_count": 9,
      "outputs": [
        {
          "output_type": "stream",
          "name": "stdout",
          "text": [
            "Element 7 found at index 2\n"
          ]
        }
      ]
    },
    {
      "cell_type": "markdown",
      "source": [
        "Question 29. Write a python program of Binary Search"
      ],
      "metadata": {
        "id": "FzNnHamJ3cNa"
      }
    },
    {
      "cell_type": "code",
      "source": [
        "def binary_search(arr, low, high, x):\n",
        "    if high >= low:\n",
        "        mid = (high + low) // 2\n",
        "        if arr[mid] == x:\n",
        "            return mid\n",
        "        elif arr[mid] > x:\n",
        "            return binary_search(arr, low, mid - 1, x)\n",
        "        else:\n",
        "            return binary_search(arr, mid + 1, high, x)\n",
        "    else:\n",
        "        return -1\n",
        "arr = [ 2, 3, 4, 10, 40 ]\n",
        "x = 10\n",
        "result = binary_search(arr, 0, len(arr)-1, x)\n",
        "if result != -1:\n",
        "    print(\"Element is present at index\", str(result))\n",
        "else:\n",
        "    print(\"Element is not present in array\")"
      ],
      "metadata": {
        "colab": {
          "base_uri": "https://localhost:8080/"
        },
        "id": "DwS57s_b4pab",
        "outputId": "58827dac-4ae7-4da4-cd05-b0c0de238952"
      },
      "execution_count": 10,
      "outputs": [
        {
          "output_type": "stream",
          "name": "stdout",
          "text": [
            "Element is present at index 3\n"
          ]
        }
      ]
    },
    {
      "cell_type": "markdown",
      "source": [
        "Question 30. Write a python program  selection sort"
      ],
      "metadata": {
        "id": "hnME0D2K5DB8"
      }
    },
    {
      "cell_type": "code",
      "source": [
        "def selection_sort(arr):\n",
        "    for i in range(len(arr)):\n",
        "        min_index = i\n",
        "        for j in range(i+1, len(arr)):\n",
        "            if arr[j] < arr[min_index]:\n",
        "                min_index = j\n",
        "        arr[i], arr[min_index] = arr[min_index], arr[i]\n",
        "    return arr\n",
        "numbers = [8, 3, 1, 6, 4, 7, 2, 5]\n",
        "sorted_numbers = selection_sort(numbers)\n",
        "print(\"Sorted numbers:\", sorted_numbers)"
      ],
      "metadata": {
        "colab": {
          "base_uri": "https://localhost:8080/"
        },
        "id": "iCJ5GRE75E0U",
        "outputId": "07d03558-d1f6-4b29-8e87-ad656f4a5dff"
      },
      "execution_count": 11,
      "outputs": [
        {
          "output_type": "stream",
          "name": "stdout",
          "text": [
            "Sorted numbers: [1, 2, 3, 4, 5, 6, 7, 8]\n"
          ]
        }
      ]
    },
    {
      "cell_type": "markdown",
      "source": [
        "Question 31.Write a python program insertion sort"
      ],
      "metadata": {
        "id": "FP6HhYIY5LBT"
      }
    },
    {
      "cell_type": "code",
      "source": [
        "def insertion_sort(arr):\n",
        "    for i in range(1, len(arr)):\n",
        "        key = arr[i]\n",
        "        j = i - 1\n",
        "        while j >= 0 and arr[j] > key:\n",
        "            arr[j + 1] = arr[j]\n",
        "            j -= 1\n",
        "        arr[j + 1] = key\n",
        "    return arr\n",
        "numbers = [8, 3, 1, 6, 4, 7, 2, 5]\n",
        "sorted_numbers = insertion_sort(numbers)\n",
        "print(\"Sorted numbers:\", sorted_numbers)"
      ],
      "metadata": {
        "colab": {
          "base_uri": "https://localhost:8080/"
        },
        "id": "QF4PInLx5LL2",
        "outputId": "0473802e-0203-4aca-ffbd-0706e0198e16"
      },
      "execution_count": 12,
      "outputs": [
        {
          "output_type": "stream",
          "name": "stdout",
          "text": [
            "Sorted numbers: [1, 2, 3, 4, 5, 6, 7, 8]\n"
          ]
        }
      ]
    },
    {
      "cell_type": "markdown",
      "source": [
        "Question 32.Write a python program merge sort"
      ],
      "metadata": {
        "id": "fCETk5455fdM"
      }
    },
    {
      "cell_type": "code",
      "source": [
        "def merge_sort(arr):\n",
        "    if len(arr) <= 1:\n",
        "        return arr\n",
        "    mid = len(arr) // 2\n",
        "    left_half = arr[:mid]\n",
        "    right_half = arr[mid:]\n",
        "    left_half = merge_sort(left_half)\n",
        "    right_half = merge_sort(right_half)\n",
        "    return merge(left_half, right_half)\n",
        "def merge(left, right):\n",
        "    merged = []\n",
        "    i = j = 0\n",
        "    while i < len(left) and j < len(right):\n",
        "        if left[i] < right[j]:\n",
        "            merged.append(left[i])\n",
        "            i += 1\n",
        "        else:\n",
        "            merged.append(right[j])\n",
        "            j += 1\n",
        "    merged.extend(left[i:])\n",
        "    merged.extend(right[j:])\n",
        "    return merged\n",
        "numbers = [8, 3, 1, 6, 4, 7, 2, 5]\n",
        "sorted_numbers = merge_sort(numbers)\n",
        "print(\"Sorted numbers:\", sorted_numbers)"
      ],
      "metadata": {
        "colab": {
          "base_uri": "https://localhost:8080/"
        },
        "id": "jxjUDaji5kjL",
        "outputId": "bf5266d7-5d85-49ee-faf6-dbcda1d27a1f"
      },
      "execution_count": 13,
      "outputs": [
        {
          "output_type": "stream",
          "name": "stdout",
          "text": [
            "Sorted numbers: [1, 2, 3, 4, 5, 6, 7, 8]\n"
          ]
        }
      ]
    },
    {
      "cell_type": "markdown",
      "source": [
        "Question 33. Write a program in python  to print first n prime numbers"
      ],
      "metadata": {
        "id": "kJFtnhm551z1"
      }
    },
    {
      "cell_type": "code",
      "source": [
        "def is_prime(num):\n",
        "    if num < 2:\n",
        "        return False\n",
        "    for i in range(2, int(num**0.5) + 1):\n",
        "        if num % i == 0:\n",
        "            return False\n",
        "    return True\n",
        "def print_prime_numbers(n):\n",
        "    count = 0\n",
        "    num = 2\n",
        "    while count < n:\n",
        "        if is_prime(num):\n",
        "            print(num, end=\" \")\n",
        "            count += 1\n",
        "        num += 1\n",
        "n = int(input(\"Enter the value of n: \"))\n",
        "print(\"First\", n, \"prime numbers:\")\n",
        "print_prime_numbers(n)"
      ],
      "metadata": {
        "colab": {
          "base_uri": "https://localhost:8080/"
        },
        "id": "jOzS9vDs519u",
        "outputId": "e8875e11-69c5-4fb2-e575-2770da443235"
      },
      "execution_count": 14,
      "outputs": [
        {
          "output_type": "stream",
          "name": "stdout",
          "text": [
            "Enter the value of n: 10\n",
            "First 10 prime numbers:\n",
            "2 3 5 7 11 13 17 19 23 29 "
          ]
        }
      ]
    },
    {
      "cell_type": "markdown",
      "source": [
        "Question 34. Write a python program simluate bouncing ball in pygame"
      ],
      "metadata": {
        "id": "ole5sD5e52HG"
      }
    },
    {
      "cell_type": "code",
      "source": [
        "import pygame\n",
        "import sys\n",
        "pygame.init()\n",
        "\n",
        "WIDTH = 800\n",
        "HEIGHT = 600\n",
        "DISPLAY_SURFACE = pygame.display.set_mode((WIDTH, HEIGHT))\n",
        "pygame.display.set_caption(\"Bouncing Ball\")\n",
        "BLACK = (0, 0, 0)\n",
        "WHITE = (255, 255, 255)\n",
        "\n",
        "BALL_RADIUS = 20\n",
        "ball_position = [WIDTH // 2, HEIGHT // 2]\n",
        "ball_velocity = [5, 5]\n",
        "while True:\n",
        "    for event in pygame.event.get():\n",
        "        if event.type == pygame.QUIT:\n",
        "            pygame.quit()\n",
        "            sys.exit()\n",
        "    ball_position[0] += ball_velocity[0]\n",
        "    ball_position[1] += ball_velocity[1]\n",
        "\n",
        "    if ball_position[0] + BALL_RADIUS >= WIDTH or ball_position[0] - BALL_RADIUS <= 0:\n",
        "        ball_velocity[0] *= -1\n",
        "    if ball_position[1] + BALL_RADIUS >= HEIGHT or ball_position[1] - BALL_RADIUS <= 0:\n",
        "        ball_velocity[1] *= -1\n",
        "    DISPLAY_SURFACE.fill(BLACK)\n",
        "    pygame.draw.circle(DISPLAY_SURFACE, WHITE, ball_position, BALL_RADIUS)\n",
        "    pygame.display.update()"
      ],
      "metadata": {
        "colab": {
          "base_uri": "https://localhost:8080/",
          "height": 269
        },
        "id": "gxjTtJK452QV",
        "outputId": "06faca82-a240-4814-a7cf-ac107989630f"
      },
      "execution_count": 15,
      "outputs": [
        {
          "output_type": "stream",
          "name": "stdout",
          "text": [
            "pygame 2.3.0 (SDL 2.24.2, Python 3.10.12)\n",
            "Hello from the pygame community. https://www.pygame.org/contribute.html\n"
          ]
        },
        {
          "output_type": "error",
          "ename": "error",
          "evalue": "ignored",
          "traceback": [
            "\u001b[0;31m---------------------------------------------------------------------------\u001b[0m",
            "\u001b[0;31merror\u001b[0m                                     Traceback (most recent call last)",
            "\u001b[0;32m<ipython-input-15-84287a2f88f6>\u001b[0m in \u001b[0;36m<cell line: 7>\u001b[0;34m()\u001b[0m\n\u001b[1;32m      5\u001b[0m \u001b[0mWIDTH\u001b[0m \u001b[0;34m=\u001b[0m \u001b[0;36m800\u001b[0m\u001b[0;34m\u001b[0m\u001b[0;34m\u001b[0m\u001b[0m\n\u001b[1;32m      6\u001b[0m \u001b[0mHEIGHT\u001b[0m \u001b[0;34m=\u001b[0m \u001b[0;36m600\u001b[0m\u001b[0;34m\u001b[0m\u001b[0;34m\u001b[0m\u001b[0m\n\u001b[0;32m----> 7\u001b[0;31m \u001b[0mDISPLAY_SURFACE\u001b[0m \u001b[0;34m=\u001b[0m \u001b[0mpygame\u001b[0m\u001b[0;34m.\u001b[0m\u001b[0mdisplay\u001b[0m\u001b[0;34m.\u001b[0m\u001b[0mset_mode\u001b[0m\u001b[0;34m(\u001b[0m\u001b[0;34m(\u001b[0m\u001b[0mWIDTH\u001b[0m\u001b[0;34m,\u001b[0m \u001b[0mHEIGHT\u001b[0m\u001b[0;34m)\u001b[0m\u001b[0;34m)\u001b[0m\u001b[0;34m\u001b[0m\u001b[0;34m\u001b[0m\u001b[0m\n\u001b[0m\u001b[1;32m      8\u001b[0m \u001b[0mpygame\u001b[0m\u001b[0;34m.\u001b[0m\u001b[0mdisplay\u001b[0m\u001b[0;34m.\u001b[0m\u001b[0mset_caption\u001b[0m\u001b[0;34m(\u001b[0m\u001b[0;34m\"Bouncing Ball\"\u001b[0m\u001b[0;34m)\u001b[0m\u001b[0;34m\u001b[0m\u001b[0;34m\u001b[0m\u001b[0m\n\u001b[1;32m      9\u001b[0m \u001b[0mBLACK\u001b[0m \u001b[0;34m=\u001b[0m \u001b[0;34m(\u001b[0m\u001b[0;36m0\u001b[0m\u001b[0;34m,\u001b[0m \u001b[0;36m0\u001b[0m\u001b[0;34m,\u001b[0m \u001b[0;36m0\u001b[0m\u001b[0;34m)\u001b[0m\u001b[0;34m\u001b[0m\u001b[0;34m\u001b[0m\u001b[0m\n",
            "\u001b[0;31merror\u001b[0m: No available video device"
          ]
        }
      ]
    }
  ]
}