{
  "nbformat": 4,
  "nbformat_minor": 0,
  "metadata": {
    "colab": {
      "provenance": [],
      "toc_visible": true,
      "mount_file_id": "1CB61sJeKtTxkqoLZRL_siVKsfog-_zgx",
      "authorship_tag": "ABX9TyOqGEAUNgaQOMfU3JolmARC",
      "include_colab_link": true
    },
    "kernelspec": {
      "name": "python3",
      "display_name": "Python 3"
    },
    "language_info": {
      "name": "python"
    }
  },
  "cells": [
    {
      "cell_type": "markdown",
      "metadata": {
        "id": "view-in-github",
        "colab_type": "text"
      },
      "source": [
        "<a href=\"https://colab.research.google.com/github/PrathamSherawat/python_program/blob/main/Untitled3.ipynb\" target=\"_parent\"><img src=\"https://colab.research.google.com/assets/colab-badge.svg\" alt=\"Open In Colab\"/></a>"
      ]
    },
    {
      "cell_type": "markdown",
      "source": [
        "Question 18 : Find the value of equation:A(n)+  i=1E100(Xi^2-Acos(2*pie Xi))      \n",
        "where A=10,x[-5.12,5.12]"
      ],
      "metadata": {
        "id": "EsfDa6bBm_rt"
      }
    },
    {
      "cell_type": "code",
      "execution_count": null,
      "metadata": {
        "colab": {
          "base_uri": "https://localhost:8080/"
        },
        "id": "n6G7qNgSm_OO",
        "outputId": "0ad3b7e7-f21d-43ac-d26f-69646efc3021"
      },
      "outputs": [
        {
          "output_type": "stream",
          "name": "stdout",
          "text": [
            "F(x) 6.000811683565525\n",
            "F(x) 5.0012682582734165\n",
            "F(x) 4.001724832981308\n",
            "F(x) -4.998224436152444\n",
            "F(x) -5.997767861444553\n",
            "F(x) -11.997564938494286\n",
            "F(x) -17.99736201554402\n",
            "F(x) -23.997159092593755\n",
            "F(x) -8.995890846673582\n",
            "F(x) -14.995687923723315\n",
            "F(x) -23.995637192857068\n",
            "F(x) -24.995180618149178\n",
            "F(x) -34.99518061814918\n",
            "F(x) -35.99472404344129\n",
            "F(x) -36.9942674687334\n",
            "F(x) -42.99406454578313\n",
            "F(x) -36.99325286221761\n",
            "F(x) -37.99279628750972\n",
            "F(x) -46.99274555664347\n",
            "F(x) -40.99193387307795\n",
            "F(x) -34.991122189512424\n",
            "F(x) -40.99091926656216\n",
            "F(x) -49.99086853569591\n",
            "F(x) -58.99081780482966\n",
            "F(x) -64.9906148818794\n",
            "F(x) -73.99056415101315\n",
            "F(x) -82.9905134201469\n",
            "F(x) -88.99031049719663\n",
            "F(x) -89.98985392248873\n",
            "F(x) -95.98965099953847\n",
            "F(x) -104.98960026867222\n",
            "F(x) -89.98833202275205\n",
            "F(x) -74.98706377683187\n",
            "F(x) -83.98701304596563\n",
            "F(x) -84.98655647125773\n",
            "F(x) -90.98635354830746\n",
            "F(x) -91.98589697359957\n",
            "F(x) -92.98544039889167\n",
            "F(x) -86.98462871532614\n",
            "F(x) -80.98381703176061\n",
            "F(x) -86.98361410881034\n",
            "F(x) -95.9835633779441\n",
            "F(x) -104.98351264707784\n",
            "F(x) -110.98330972412758\n",
            "F(x) -104.98249804056205\n",
            "F(x) -98.98168635699652\n",
            "F(x) -92.98087467343099\n",
            "F(x) -101.98082394256474\n",
            "F(x) -95.98001225899921\n",
            "F(x) -104.97996152813296\n",
            "F(x) -105.97950495342506\n",
            "F(x) -106.97904837871717\n",
            "F(x) -107.97859180400927\n",
            "F(x) -113.978388881059\n",
            "F(x) -107.97757719749347\n",
            "F(x) -113.97737427454321\n",
            "F(x) -114.97691769983531\n",
            "F(x) -115.97646112512741\n",
            "F(x) -116.97600455041952\n",
            "F(x) -117.97554797571162\n",
            "F(x) -126.97549724484537\n",
            "F(x) -120.97468556127984\n",
            "F(x) -114.97387387771431\n",
            "F(x) -124.97387387771431\n",
            "F(x) -130.97367095476403\n",
            "F(x) -136.97346803181375\n",
            "F(x) -142.97326510886347\n",
            "F(x) -152.97326510886347\n",
            "F(x) -146.97245342529794\n",
            "F(x) -156.97245342529794\n",
            "F(x) -162.97225050234766\n",
            "F(x) -168.97204757939738\n",
            "F(x) -178.97204757939738\n",
            "F(x) -184.9718446564471\n",
            "F(x) -190.97164173349682\n",
            "F(x) -191.97118515878893\n",
            "F(x) -192.97072858408103\n",
            "F(x) -201.9706778532148\n",
            "F(x) -210.97062712234856\n",
            "F(x) -211.97017054764066\n",
            "F(x) -212.96971397293277\n",
            "F(x) -218.9695110499825\n",
            "F(x) -212.96869936641696\n",
            "F(x) -218.96849644346668\n",
            "F(x) -203.9672281975465\n",
            "F(x) -197.96641651398096\n",
            "F(x) -203.96621359103068\n",
            "F(x) -188.9649453451105\n",
            "F(x) -197.96489461424426\n",
            "F(x) -198.96443803953636\n",
            "F(x) -199.96398146482846\n",
            "F(x) -193.96316978126293\n",
            "F(x) -199.96296685831265\n",
            "F(x) -209.96296685831265\n",
            "F(x) -219.96296685831265\n",
            "F(x) -228.96291612744642\n",
            "F(x) -237.96286539658018\n",
            "F(x) -222.96159715066\n",
            "F(x) -231.96154641979376\n",
            "F(x) -241.96154641979376\n",
            "Minimum :  -241.96154641979376\n",
            "Index of minimum :  99\n"
          ]
        }
      ],
      "source": [
        "import numpy as np\n",
        "import math as m\n",
        "arr=np.random.randint(-5.12,5.12,100)\n",
        "s=0\n",
        "min=100\n",
        "k=0\n",
        "for i in range(100):\n",
        "  s+=arr[i]**2-10*m.cos(2*3.14*arr[i])\n",
        "  print(\"F(x)\",s)\n",
        "  if(s<min):\n",
        "    min=s\n",
        "    k=i\n",
        "print(\"Minimum : \",min)\n",
        "print(\"Index of minimum : \",k)"
      ]
    },
    {
      "cell_type": "markdown",
      "source": [
        "Question 19 : Find the value of equation: [-20exp[-0.2*sqrt(0.5(x^2+y^2))]-exp[0.5(cos(2*pie*x)+cos(2*pie*y))]+e+20]      \n",
        "where x and y [-5,5]"
      ],
      "metadata": {
        "id": "xw9ouZtjoSa_"
      }
    },
    {
      "cell_type": "code",
      "source": [
        "import numpy as np\n",
        "import math as m\n",
        "arrx=np.random.randint(-5,5,100)\n",
        "arry=np.random.randint(-5,5,100)\n",
        "min=10000000\n",
        "for i in range(100):\n",
        "  s=-20*2.71**(-0.2*m.sqrt(0.5*(arrx[i]**2+arry[i]**2)))-2.71**(0.5*(m.cos(2*3.14*arrx[i])+m.cos(2*3.14*arry[i])))+2.71+20\n",
        "  print(\"F(x)\",i,\" : \",round(s,4))\n",
        "  if(s<min):\n",
        "    min=s\n",
        "    k=i\n",
        "print(\"Minimum : \",min)\n",
        "print(\"Index of minimum : \",k)\n",
        "print(\"X : \",arrx[k])\n",
        "print(\"Y : \",arry[k])"
      ],
      "metadata": {
        "colab": {
          "base_uri": "https://localhost:8080/"
        },
        "id": "lOCBEpa9oVLN",
        "outputId": "085e104f-34a8-471e-e10c-8900f1c0ad06"
      },
      "execution_count": null,
      "outputs": [
        {
          "output_type": "stream",
          "name": "stdout",
          "text": [
            "F(x) 0  :  6.5773\n",
            "F(x) 1  :  9.0038\n",
            "F(x) 2  :  10.2545\n",
            "F(x) 3  :  7.9703\n",
            "F(x) 4  :  10.1175\n",
            "F(x) 5  :  7.9703\n",
            "F(x) 6  :  10.1175\n",
            "F(x) 7  :  8.6211\n",
            "F(x) 8  :  7.1945\n",
            "F(x) 9  :  7.9703\n",
            "F(x) 10  :  10.6399\n",
            "F(x) 11  :  11.2101\n",
            "F(x) 12  :  8.6211\n",
            "F(x) 13  :  7.1945\n",
            "F(x) 14  :  6.5773\n",
            "F(x) 15  :  7.1945\n",
            "F(x) 16  :  9.3539\n",
            "F(x) 17  :  9.0038\n",
            "F(x) 18  :  8.8169\n",
            "F(x) 19  :  5.4081\n",
            "F(x) 20  :  7.1945\n",
            "F(x) 21  :  6.8981\n",
            "F(x) 22  :  7.9703\n",
            "F(x) 23  :  7.9703\n",
            "F(x) 24  :  10.6399\n",
            "F(x) 25  :  8.6211\n",
            "F(x) 26  :  10.1175\n",
            "F(x) 27  :  6.8981\n",
            "F(x) 28  :  10.9917\n",
            "F(x) 29  :  5.4081\n",
            "F(x) 30  :  8.6211\n",
            "F(x) 31  :  7.9703\n",
            "F(x) 32  :  11.2101\n",
            "F(x) 33  :  6.5773\n",
            "F(x) 34  :  9.3539\n",
            "F(x) 35  :  2.63\n",
            "F(x) 36  :  8.6211\n",
            "F(x) 37  :  8.6211\n",
            "F(x) 38  :  5.4081\n",
            "F(x) 39  :  10.6399\n",
            "F(x) 40  :  6.8981\n",
            "F(x) 41  :  7.1945\n",
            "F(x) 42  :  5.4081\n",
            "F(x) 43  :  6.5773\n",
            "F(x) 44  :  5.4081\n",
            "F(x) 45  :  7.9703\n",
            "F(x) 46  :  10.2545\n",
            "F(x) 47  :  10.9917\n",
            "F(x) 48  :  3.6154\n",
            "F(x) 49  :  10.6399\n",
            "F(x) 50  :  10.9917\n",
            "F(x) 51  :  8.8169\n",
            "F(x) 52  :  8.6211\n",
            "F(x) 53  :  10.1175\n",
            "F(x) 54  :  2.63\n",
            "F(x) 55  :  8.8169\n",
            "F(x) 56  :  11.2101\n",
            "F(x) 57  :  8.8169\n",
            "F(x) 58  :  7.9703\n",
            "F(x) 59  :  12.6203\n",
            "F(x) 60  :  5.4081\n",
            "F(x) 61  :  12.6203\n",
            "F(x) 62  :  6.8981\n",
            "F(x) 63  :  3.6154\n",
            "F(x) 64  :  9.3539\n",
            "F(x) 65  :  9.3539\n",
            "F(x) 66  :  10.1175\n",
            "F(x) 67  :  11.2101\n",
            "F(x) 68  :  10.9917\n",
            "F(x) 69  :  11.2101\n",
            "F(x) 70  :  10.1175\n",
            "F(x) 71  :  3.6154\n",
            "F(x) 72  :  11.2101\n",
            "F(x) 73  :  11.8914\n",
            "F(x) 74  :  5.4081\n",
            "F(x) 75  :  9.0038\n",
            "F(x) 76  :  11.8914\n",
            "F(x) 77  :  8.6211\n",
            "F(x) 78  :  7.9703\n",
            "F(x) 79  :  10.1175\n",
            "F(x) 80  :  7.9703\n",
            "F(x) 81  :  10.1175\n",
            "F(x) 82  :  8.8169\n",
            "F(x) 83  :  10.9917\n",
            "F(x) 84  :  7.9703\n",
            "F(x) 85  :  9.0038\n",
            "F(x) 86  :  9.0038\n",
            "F(x) 87  :  5.4081\n",
            "F(x) 88  :  10.1175\n",
            "F(x) 89  :  10.1175\n",
            "F(x) 90  :  5.4081\n",
            "F(x) 91  :  9.3539\n",
            "F(x) 92  :  10.2545\n",
            "F(x) 93  :  10.1175\n",
            "F(x) 94  :  8.8169\n",
            "F(x) 95  :  8.8169\n",
            "F(x) 96  :  8.8169\n",
            "F(x) 97  :  8.8169\n",
            "F(x) 98  :  7.1945\n",
            "F(x) 99  :  5.4081\n",
            "Minimum :  2.6300439335179355\n",
            "Index of minimum :  35\n",
            "X :  1\n",
            "Y :  0\n"
          ]
        }
      ]
    },
    {
      "cell_type": "markdown",
      "source": [
        "Question 20 : Find the value of equation: f(x,y) = (1-x^2)^2 +100(y-x^2)^2, value of x lies in -15<=x <=15 and y lies in  -05<=y<=25  \n",
        "subject to (x-1)^3-y+1 <=0 and x+y-2"
      ],
      "metadata": {
        "id": "rKAlzmvxoabt"
      }
    },
    {
      "cell_type": "code",
      "source": [
        "from scipy.optimize import minimize\n",
        "def objective_function(x):\n",
        "    x_val, y_val = x\n",
        "    return (1 - x_val**2)**2 + 100 * (y_val - x_val**2)**2\n",
        "def constraint1(x):\n",
        "    x_val, y_val = x\n",
        "    return (x_val - 1)**3 - y_val + 1\n",
        "def constraint2(x):\n",
        "    x_val, y_val = x\n",
        "    return x_val + y_val - 2\n",
        "x_bounds = (-15, 15)\n",
        "y_bounds = (-5, 25)\n",
        "constraints = [{'type': 'ineq', 'fun': constraint1},\n",
        "               {'type': 'ineq', 'fun': constraint2}]\n",
        "result = minimize(objective_function, (0, 0), bounds=[x_bounds, y_bounds], constraints=constraints)\n",
        "x_optimized, y_optimized = result.x\n",
        "f_optimized = result.fun\n",
        "print(\"Optimized value of x:\", x_optimized)\n",
        "print(\"Optimized value of y:\", y_optimized)\n",
        "print(\"Optimized value of f(x, y):\", f_optimized)"
      ],
      "metadata": {
        "colab": {
          "base_uri": "https://localhost:8080/"
        },
        "id": "hMWvbDrFp0gC",
        "outputId": "7b55b1ab-238d-42a4-a324-5fa608063360"
      },
      "execution_count": null,
      "outputs": [
        {
          "output_type": "stream",
          "name": "stdout",
          "text": [
            "Optimized value of x: 1.0000007599592209\n",
            "Optimized value of y: 0.9999992400407791\n",
            "Optimized value of f(x, y): 5.220946328375059e-10\n"
          ]
        }
      ]
    }
  ]
}